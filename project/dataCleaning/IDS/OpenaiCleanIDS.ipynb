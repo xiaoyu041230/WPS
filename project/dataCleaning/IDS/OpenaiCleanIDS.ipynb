{
 "cells": [
  {
   "cell_type": "code",
   "execution_count": 1,
   "id": "0f039ed5-21d4-4bdd-a39f-4d1c2af6aa03",
   "metadata": {},
   "outputs": [],
   "source": [
    "import pandas as pd\n",
    "from tqdm import tqdm\n",
    "import time\n",
    "from openai import OpenAI\n",
    "import os"
   ]
  },
  {
   "cell_type": "code",
   "execution_count": 2,
   "id": "db63b84a-cd70-489f-9016-91b88aebdbbd",
   "metadata": {},
   "outputs": [],
   "source": [
    "# read the original data file\n",
    "df = pd.read_csv(\"IDS.csv\")"
   ]
  },
  {
   "cell_type": "code",
   "execution_count": 3,
   "id": "563be2d9-0b2b-4725-a221-3985456595d5",
   "metadata": {},
   "outputs": [],
   "source": [
    "# index\n",
    "INPUT_FILE = \"IDS.csv\"\n",
    "PROGRESS_FILE = \"Filtered_WPS_Progress.csv\"\n",
    "FINAL_FILE = \"Filtered_WPS_Final.csv\"\n",
    "SAVE_EVERY = 100\n",
    "DESC_COL = \"Overall Submission Description (may describe multiple incidents)\""
   ]
  },
  {
   "cell_type": "code",
   "execution_count": 4,
   "id": "756cec23-377f-4972-bf89-288dd8139c95",
   "metadata": {},
   "outputs": [],
   "source": [
    "# keep human related + U.S incidents\n",
    "df.columns = df.columns.str.strip()\n",
    "df[\"Country\"] = df[\"Country\"].str.strip().str.upper()\n",
    "df_human = df[df[\"Impact of Incident\"].str.contains(\"H\", na=False)]\n",
    "df_human = df_human[df_human[\"Country\"] == \"US\"]\n",
    "df_human = df_human.reset_index(drop=True)"
   ]
  },
  {
   "cell_type": "code",
   "execution_count": 5,
   "id": "6fa3c7ae-8e69-49ee-a940-50365d00b414",
   "metadata": {},
   "outputs": [
    {
     "name": "stdout",
     "output_type": "stream",
     "text": [
      "Filtered dataset size: 13011\n"
     ]
    }
   ],
   "source": [
    "print(\"Filtered dataset size:\", len(df_human))"
   ]
  },
  {
   "cell_type": "code",
   "execution_count": 6,
   "id": "f7dd3e56-ebb1-423a-80a0-88f064b6ff82",
   "metadata": {},
   "outputs": [],
   "source": [
    "tqdm.pandas()"
   ]
  },
  {
   "cell_type": "code",
   "execution_count": 7,
   "id": "3fe378c6-6f21-431b-94a9-f5866faf8c00",
   "metadata": {},
   "outputs": [],
   "source": [
    "client = OpenAI(\n",
    "    api_key=\"sk-df9f5cc150e746e7a2d93ac1db2cfeb2\",\n",
    "    base_url=\"https://api.deepseek.com\"\n",
    ")"
   ]
  },
  {
   "cell_type": "code",
   "execution_count": 8,
   "id": "2adc0e98-c6a8-4b98-b888-6b877fcb796f",
   "metadata": {},
   "outputs": [
    {
     "name": "stdout",
     "output_type": "stream",
     "text": [
      "🚀 Starting from scratch\n"
     ]
    }
   ],
   "source": [
    "# save the progress\n",
    "results = []\n",
    "start_index = 0\n",
    "if os.path.exists(PROGRESS_FILE):\n",
    "    existing = pd.read_csv(PROGRESS_FILE)\n",
    "    results = existing.to_dict(\"records\")\n",
    "    start_index = len(existing)\n",
    "    print(f\"🔁 Resuming from row {start_index}\")\n",
    "else:\n",
    "    print(f\"🚀 Starting from scratch\")"
   ]
  },
  {
   "cell_type": "code",
   "execution_count": 9,
   "id": "0389b201-edf2-4d35-8ece-c737e951e08f",
   "metadata": {},
   "outputs": [],
   "source": [
    "# check product type\n",
    "def is_pesticide_product(product_name):\n",
    "    prompt = f\"\"\"\n",
    "You are a chemical safety and pesticide regulation expert.\n",
    "\n",
    "Given the name of a chemical product or mixture, determine whether this chemical is likely used as a **pesticide or agricultural chemical** that could be subject to **Worker Protection Standard (WPS)** enforcement.\n",
    "\n",
    "Consider the chemical \"included\" if it is used in agricultural fields, greenhouses, or orchards to control pests, diseases, or weeds.\n",
    "\n",
    "Chemical:\n",
    "{product_name}\n",
    "\n",
    "Respond only with:\n",
    "- \"Yes\"\n",
    "- \"No\"\n",
    "\"\"\"\n",
    "    for attempt in range(3):\n",
    "        try:\n",
    "            response = client.chat.completions.create(\n",
    "                model=\"deepseek-chat\",\n",
    "                messages=[{\"role\": \"user\", \"content\": prompt}],\n",
    "                temperature=0,\n",
    "            )\n",
    "            return response.choices[0].message.content.strip()\n",
    "        except Exception as e:\n",
    "            print(f\"⚠️ Product check error: {e} (attempt {attempt+1}/3)\")\n",
    "            time.sleep(5)\n",
    "    return \"ERROR\""
   ]
  },
  {
   "cell_type": "code",
   "execution_count": 10,
   "id": "6a2d4ffa-52ac-49c8-a878-27eda3e3cb06",
   "metadata": {},
   "outputs": [],
   "source": [
    "# filter wps related\n",
    "def is_wps_incident(description):\n",
    "    prompt = f\"\"\"\n",
    "You are a domain expert in agricultural labor safety and pesticide regulation.\n",
    "\n",
    "Given a self-reported incident description, determine whether the case is relevant to the **Worker Protection Standard (WPS)**.\n",
    "\n",
    "Consider it relevant if:\n",
    "- A human (especially a worker, field laborer, pesticide handler) was affected\n",
    "- The incident occurred in an agricultural context (e.g., farm, greenhouse, orchard, nursery)\n",
    "\n",
    "If the report clearly involves most or all of the above, respond \"Yes\". If not, respond \"No\".\n",
    "\n",
    "Incident Description:\n",
    "{description}\n",
    "\"\"\"\n",
    "    for attempt in range(3):\n",
    "        try:\n",
    "            response = client.chat.completions.create(\n",
    "                model=\"deepseek-chat\",\n",
    "                messages=[{\"role\": \"user\", \"content\": prompt}],\n",
    "                temperature=0,\n",
    "            )\n",
    "            return response.choices[0].message.content.strip()\n",
    "        except Exception as e:\n",
    "            print(f\"⚠️ WPS check error: {e} (attempt {attempt+1}/3)\")\n",
    "            time.sleep(5)\n",
    "    return \"ERROR\""
   ]
  },
  {
   "cell_type": "code",
   "execution_count": 11,
   "id": "7996d5c8-6cb7-426d-be92-38c062bb4e53",
   "metadata": {},
   "outputs": [
    {
     "name": "stderr",
     "output_type": "stream",
     "text": [
      "  1%|█                                                                                                                                        | 100/13011 [14:14<27:55:33,  7.79s/it]"
     ]
    },
    {
     "name": "stdout",
     "output_type": "stream",
     "text": [
      "✅ Progress saved at row 100 to Filtered_WPS_Progress.csv\n"
     ]
    },
    {
     "name": "stderr",
     "output_type": "stream",
     "text": [
      "  2%|██                                                                                                                                       | 200/13011 [28:12<25:06:42,  7.06s/it]"
     ]
    },
    {
     "name": "stdout",
     "output_type": "stream",
     "text": [
      "✅ Progress saved at row 200 to Filtered_WPS_Progress.csv\n"
     ]
    },
    {
     "name": "stderr",
     "output_type": "stream",
     "text": [
      "  2%|███▏                                                                                                                                     | 300/13011 [42:44<33:43:17,  9.55s/it]"
     ]
    },
    {
     "name": "stdout",
     "output_type": "stream",
     "text": [
      "✅ Progress saved at row 300 to Filtered_WPS_Progress.csv\n"
     ]
    },
    {
     "name": "stderr",
     "output_type": "stream",
     "text": [
      "  3%|████▏                                                                                                                                    | 400/13011 [57:51<30:13:16,  8.63s/it]"
     ]
    },
    {
     "name": "stdout",
     "output_type": "stream",
     "text": [
      "✅ Progress saved at row 400 to Filtered_WPS_Progress.csv\n"
     ]
    },
    {
     "name": "stderr",
     "output_type": "stream",
     "text": [
      "  4%|█████▏                                                                                                                                 | 500/13011 [1:12:41<21:02:10,  6.05s/it]"
     ]
    },
    {
     "name": "stdout",
     "output_type": "stream",
     "text": [
      "✅ Progress saved at row 500 to Filtered_WPS_Progress.csv\n"
     ]
    },
    {
     "name": "stderr",
     "output_type": "stream",
     "text": [
      "  5%|██████▏                                                                                                                                | 600/13011 [1:31:52<54:29:30, 15.81s/it]"
     ]
    },
    {
     "name": "stdout",
     "output_type": "stream",
     "text": [
      "✅ Progress saved at row 600 to Filtered_WPS_Progress.csv\n"
     ]
    },
    {
     "name": "stderr",
     "output_type": "stream",
     "text": [
      "  5%|███████▎                                                                                                                               | 700/13011 [1:47:29<27:45:05,  8.12s/it]"
     ]
    },
    {
     "name": "stdout",
     "output_type": "stream",
     "text": [
      "✅ Progress saved at row 700 to Filtered_WPS_Progress.csv\n"
     ]
    },
    {
     "name": "stderr",
     "output_type": "stream",
     "text": [
      "  6%|████████▎                                                                                                                              | 800/13011 [2:01:59<39:39:30, 11.69s/it]"
     ]
    },
    {
     "name": "stdout",
     "output_type": "stream",
     "text": [
      "✅ Progress saved at row 800 to Filtered_WPS_Progress.csv\n"
     ]
    },
    {
     "name": "stderr",
     "output_type": "stream",
     "text": [
      "  7%|█████████▎                                                                                                                             | 900/13011 [2:19:49<18:59:04,  5.64s/it]"
     ]
    },
    {
     "name": "stdout",
     "output_type": "stream",
     "text": [
      "✅ Progress saved at row 900 to Filtered_WPS_Progress.csv\n"
     ]
    },
    {
     "name": "stderr",
     "output_type": "stream",
     "text": [
      "  8%|██████████▎                                                                                                                           | 1000/13011 [2:34:13<51:13:35, 15.35s/it]"
     ]
    },
    {
     "name": "stdout",
     "output_type": "stream",
     "text": [
      "✅ Progress saved at row 1000 to Filtered_WPS_Progress.csv\n"
     ]
    },
    {
     "name": "stderr",
     "output_type": "stream",
     "text": [
      "  8%|███████████▎                                                                                                                          | 1100/13011 [2:52:04<45:42:25, 13.81s/it]"
     ]
    },
    {
     "name": "stdout",
     "output_type": "stream",
     "text": [
      "✅ Progress saved at row 1100 to Filtered_WPS_Progress.csv\n"
     ]
    },
    {
     "name": "stderr",
     "output_type": "stream",
     "text": [
      "  9%|████████████▎                                                                                                                         | 1200/13011 [3:07:51<18:21:30,  5.60s/it]"
     ]
    },
    {
     "name": "stdout",
     "output_type": "stream",
     "text": [
      "✅ Progress saved at row 1200 to Filtered_WPS_Progress.csv\n"
     ]
    },
    {
     "name": "stderr",
     "output_type": "stream",
     "text": [
      " 10%|█████████████▍                                                                                                                        | 1300/13011 [3:25:20<31:32:45,  9.70s/it]"
     ]
    },
    {
     "name": "stdout",
     "output_type": "stream",
     "text": [
      "✅ Progress saved at row 1300 to Filtered_WPS_Progress.csv\n"
     ]
    },
    {
     "name": "stderr",
     "output_type": "stream",
     "text": [
      " 11%|██████████████▍                                                                                                                       | 1400/13011 [3:39:25<34:27:55, 10.69s/it]"
     ]
    },
    {
     "name": "stdout",
     "output_type": "stream",
     "text": [
      "✅ Progress saved at row 1400 to Filtered_WPS_Progress.csv\n"
     ]
    },
    {
     "name": "stderr",
     "output_type": "stream",
     "text": [
      " 12%|███████████████▍                                                                                                                      | 1500/13011 [3:54:32<28:22:38,  8.87s/it]"
     ]
    },
    {
     "name": "stdout",
     "output_type": "stream",
     "text": [
      "✅ Progress saved at row 1500 to Filtered_WPS_Progress.csv\n"
     ]
    },
    {
     "name": "stderr",
     "output_type": "stream",
     "text": [
      " 12%|████████████████▍                                                                                                                     | 1600/13011 [4:08:16<41:15:25, 13.02s/it]"
     ]
    },
    {
     "name": "stdout",
     "output_type": "stream",
     "text": [
      "✅ Progress saved at row 1600 to Filtered_WPS_Progress.csv\n"
     ]
    },
    {
     "name": "stderr",
     "output_type": "stream",
     "text": [
      " 13%|█████████████████▌                                                                                                                    | 1700/13011 [4:21:06<22:51:54,  7.28s/it]"
     ]
    },
    {
     "name": "stdout",
     "output_type": "stream",
     "text": [
      "✅ Progress saved at row 1700 to Filtered_WPS_Progress.csv\n"
     ]
    },
    {
     "name": "stderr",
     "output_type": "stream",
     "text": [
      " 14%|██████████████████▌                                                                                                                   | 1800/13011 [4:40:13<17:05:26,  5.49s/it]"
     ]
    },
    {
     "name": "stdout",
     "output_type": "stream",
     "text": [
      "✅ Progress saved at row 1800 to Filtered_WPS_Progress.csv\n"
     ]
    },
    {
     "name": "stderr",
     "output_type": "stream",
     "text": [
      " 15%|███████████████████▌                                                                                                                  | 1900/13011 [4:57:42<18:22:43,  5.95s/it]"
     ]
    },
    {
     "name": "stdout",
     "output_type": "stream",
     "text": [
      "✅ Progress saved at row 1900 to Filtered_WPS_Progress.csv\n"
     ]
    },
    {
     "name": "stderr",
     "output_type": "stream",
     "text": [
      " 15%|████████████████████▌                                                                                                                 | 2000/13011 [5:14:08<34:32:07, 11.29s/it]"
     ]
    },
    {
     "name": "stdout",
     "output_type": "stream",
     "text": [
      "✅ Progress saved at row 2000 to Filtered_WPS_Progress.csv\n"
     ]
    },
    {
     "name": "stderr",
     "output_type": "stream",
     "text": [
      " 16%|█████████████████████▋                                                                                                                | 2100/13011 [5:30:56<19:00:28,  6.27s/it]"
     ]
    },
    {
     "name": "stdout",
     "output_type": "stream",
     "text": [
      "✅ Progress saved at row 2100 to Filtered_WPS_Progress.csv\n"
     ]
    },
    {
     "name": "stderr",
     "output_type": "stream",
     "text": [
      " 17%|██████████████████████▋                                                                                                               | 2200/13011 [5:49:41<34:28:35, 11.48s/it]"
     ]
    },
    {
     "name": "stdout",
     "output_type": "stream",
     "text": [
      "✅ Progress saved at row 2200 to Filtered_WPS_Progress.csv\n"
     ]
    },
    {
     "name": "stderr",
     "output_type": "stream",
     "text": [
      " 18%|███████████████████████▋                                                                                                              | 2300/13011 [6:07:34<22:50:38,  7.68s/it]"
     ]
    },
    {
     "name": "stdout",
     "output_type": "stream",
     "text": [
      "✅ Progress saved at row 2300 to Filtered_WPS_Progress.csv\n"
     ]
    },
    {
     "name": "stderr",
     "output_type": "stream",
     "text": [
      " 18%|████████████████████████▋                                                                                                             | 2400/13011 [6:24:25<35:03:39, 11.90s/it]"
     ]
    },
    {
     "name": "stdout",
     "output_type": "stream",
     "text": [
      "✅ Progress saved at row 2400 to Filtered_WPS_Progress.csv\n"
     ]
    },
    {
     "name": "stderr",
     "output_type": "stream",
     "text": [
      " 19%|█████████████████████████▋                                                                                                            | 2500/13011 [6:40:55<21:18:28,  7.30s/it]"
     ]
    },
    {
     "name": "stdout",
     "output_type": "stream",
     "text": [
      "✅ Progress saved at row 2500 to Filtered_WPS_Progress.csv\n"
     ]
    },
    {
     "name": "stderr",
     "output_type": "stream",
     "text": [
      " 20%|██████████████████████████▊                                                                                                           | 2600/13011 [6:58:31<23:40:49,  8.19s/it]"
     ]
    },
    {
     "name": "stdout",
     "output_type": "stream",
     "text": [
      "✅ Progress saved at row 2600 to Filtered_WPS_Progress.csv\n"
     ]
    },
    {
     "name": "stderr",
     "output_type": "stream",
     "text": [
      " 21%|███████████████████████████▊                                                                                                          | 2700/13011 [7:09:24<21:18:21,  7.44s/it]"
     ]
    },
    {
     "name": "stdout",
     "output_type": "stream",
     "text": [
      "✅ Progress saved at row 2700 to Filtered_WPS_Progress.csv\n"
     ]
    },
    {
     "name": "stderr",
     "output_type": "stream",
     "text": [
      " 22%|████████████████████████████▊                                                                                                         | 2800/13011 [7:25:22<31:41:46, 11.17s/it]"
     ]
    },
    {
     "name": "stdout",
     "output_type": "stream",
     "text": [
      "✅ Progress saved at row 2800 to Filtered_WPS_Progress.csv\n"
     ]
    },
    {
     "name": "stderr",
     "output_type": "stream",
     "text": [
      " 22%|█████████████████████████████▊                                                                                                        | 2900/13011 [7:39:18<21:08:22,  7.53s/it]"
     ]
    },
    {
     "name": "stdout",
     "output_type": "stream",
     "text": [
      "✅ Progress saved at row 2900 to Filtered_WPS_Progress.csv\n"
     ]
    },
    {
     "name": "stderr",
     "output_type": "stream",
     "text": [
      " 23%|██████████████████████████████▉                                                                                                       | 3000/13011 [7:55:39<25:38:02,  9.22s/it]"
     ]
    },
    {
     "name": "stdout",
     "output_type": "stream",
     "text": [
      "✅ Progress saved at row 3000 to Filtered_WPS_Progress.csv\n"
     ]
    },
    {
     "name": "stderr",
     "output_type": "stream",
     "text": [
      " 24%|███████████████████████████████▉                                                                                                      | 3100/13011 [8:07:07<23:39:38,  8.59s/it]"
     ]
    },
    {
     "name": "stdout",
     "output_type": "stream",
     "text": [
      "✅ Progress saved at row 3100 to Filtered_WPS_Progress.csv\n"
     ]
    },
    {
     "name": "stderr",
     "output_type": "stream",
     "text": [
      " 25%|████████████████████████████████▉                                                                                                     | 3200/13011 [8:22:21<20:00:07,  7.34s/it]"
     ]
    },
    {
     "name": "stdout",
     "output_type": "stream",
     "text": [
      "✅ Progress saved at row 3200 to Filtered_WPS_Progress.csv\n"
     ]
    },
    {
     "name": "stderr",
     "output_type": "stream",
     "text": [
      " 25%|█████████████████████████████████▉                                                                                                    | 3300/13011 [8:34:01<16:22:37,  6.07s/it]"
     ]
    },
    {
     "name": "stdout",
     "output_type": "stream",
     "text": [
      "✅ Progress saved at row 3300 to Filtered_WPS_Progress.csv\n"
     ]
    },
    {
     "name": "stderr",
     "output_type": "stream",
     "text": [
      " 26%|███████████████████████████████████                                                                                                   | 3400/13011 [8:47:39<33:46:23, 12.65s/it]"
     ]
    },
    {
     "name": "stdout",
     "output_type": "stream",
     "text": [
      "✅ Progress saved at row 3400 to Filtered_WPS_Progress.csv\n"
     ]
    },
    {
     "name": "stderr",
     "output_type": "stream",
     "text": [
      " 27%|████████████████████████████████████                                                                                                  | 3500/13011 [9:02:38<27:21:11, 10.35s/it]"
     ]
    },
    {
     "name": "stdout",
     "output_type": "stream",
     "text": [
      "✅ Progress saved at row 3500 to Filtered_WPS_Progress.csv\n"
     ]
    },
    {
     "name": "stderr",
     "output_type": "stream",
     "text": [
      " 28%|█████████████████████████████████████                                                                                                 | 3600/13011 [9:17:35<26:23:08, 10.09s/it]"
     ]
    },
    {
     "name": "stdout",
     "output_type": "stream",
     "text": [
      "✅ Progress saved at row 3600 to Filtered_WPS_Progress.csv\n"
     ]
    },
    {
     "name": "stderr",
     "output_type": "stream",
     "text": [
      " 28%|██████████████████████████████████████                                                                                                | 3700/13011 [9:33:29<23:12:14,  8.97s/it]"
     ]
    },
    {
     "name": "stdout",
     "output_type": "stream",
     "text": [
      "✅ Progress saved at row 3700 to Filtered_WPS_Progress.csv\n"
     ]
    },
    {
     "name": "stderr",
     "output_type": "stream",
     "text": [
      " 29%|███████████████████████████████████████▏                                                                                              | 3800/13011 [9:49:50<22:34:19,  8.82s/it]"
     ]
    },
    {
     "name": "stdout",
     "output_type": "stream",
     "text": [
      "✅ Progress saved at row 3800 to Filtered_WPS_Progress.csv\n"
     ]
    },
    {
     "name": "stderr",
     "output_type": "stream",
     "text": [
      " 30%|███████████████████████████████████████▊                                                                                             | 3900/13011 [10:05:22<21:10:56,  8.37s/it]"
     ]
    },
    {
     "name": "stdout",
     "output_type": "stream",
     "text": [
      "✅ Progress saved at row 3900 to Filtered_WPS_Progress.csv\n"
     ]
    },
    {
     "name": "stderr",
     "output_type": "stream",
     "text": [
      " 31%|████████████████████████████████████████▉                                                                                            | 4000/13011 [10:22:24<17:29:56,  6.99s/it]"
     ]
    },
    {
     "name": "stdout",
     "output_type": "stream",
     "text": [
      "✅ Progress saved at row 4000 to Filtered_WPS_Progress.csv\n"
     ]
    },
    {
     "name": "stderr",
     "output_type": "stream",
     "text": [
      " 32%|█████████████████████████████████████████▉                                                                                           | 4100/13011 [10:39:14<28:55:07, 11.68s/it]"
     ]
    },
    {
     "name": "stdout",
     "output_type": "stream",
     "text": [
      "✅ Progress saved at row 4100 to Filtered_WPS_Progress.csv\n"
     ]
    },
    {
     "name": "stderr",
     "output_type": "stream",
     "text": [
      " 32%|██████████████████████████████████████████▉                                                                                          | 4200/13011 [10:57:31<31:51:00, 13.01s/it]"
     ]
    },
    {
     "name": "stdout",
     "output_type": "stream",
     "text": [
      "✅ Progress saved at row 4200 to Filtered_WPS_Progress.csv\n"
     ]
    },
    {
     "name": "stderr",
     "output_type": "stream",
     "text": [
      " 33%|███████████████████████████████████████████▉                                                                                         | 4300/13011 [11:15:31<26:35:40, 10.99s/it]"
     ]
    },
    {
     "name": "stdout",
     "output_type": "stream",
     "text": [
      "✅ Progress saved at row 4300 to Filtered_WPS_Progress.csv\n"
     ]
    },
    {
     "name": "stderr",
     "output_type": "stream",
     "text": [
      " 34%|████████████████████████████████████████████▉                                                                                        | 4400/13011 [11:32:05<11:04:54,  4.63s/it]"
     ]
    },
    {
     "name": "stdout",
     "output_type": "stream",
     "text": [
      "✅ Progress saved at row 4400 to Filtered_WPS_Progress.csv\n"
     ]
    },
    {
     "name": "stderr",
     "output_type": "stream",
     "text": [
      " 35%|█████████████████████████████████████████████▉                                                                                       | 4500/13011 [11:47:18<22:20:09,  9.45s/it]"
     ]
    },
    {
     "name": "stdout",
     "output_type": "stream",
     "text": [
      "✅ Progress saved at row 4500 to Filtered_WPS_Progress.csv\n"
     ]
    },
    {
     "name": "stderr",
     "output_type": "stream",
     "text": [
      " 35%|███████████████████████████████████████████████                                                                                      | 4600/13011 [12:03:06<13:48:05,  5.91s/it]"
     ]
    },
    {
     "name": "stdout",
     "output_type": "stream",
     "text": [
      "✅ Progress saved at row 4600 to Filtered_WPS_Progress.csv\n"
     ]
    },
    {
     "name": "stderr",
     "output_type": "stream",
     "text": [
      " 36%|████████████████████████████████████████████████                                                                                     | 4700/13011 [12:20:47<28:09:24, 12.20s/it]"
     ]
    },
    {
     "name": "stdout",
     "output_type": "stream",
     "text": [
      "✅ Progress saved at row 4700 to Filtered_WPS_Progress.csv\n"
     ]
    },
    {
     "name": "stderr",
     "output_type": "stream",
     "text": [
      " 37%|█████████████████████████████████████████████████                                                                                    | 4800/13011 [12:35:44<24:00:10, 10.52s/it]"
     ]
    },
    {
     "name": "stdout",
     "output_type": "stream",
     "text": [
      "✅ Progress saved at row 4800 to Filtered_WPS_Progress.csv\n"
     ]
    },
    {
     "name": "stderr",
     "output_type": "stream",
     "text": [
      " 38%|██████████████████████████████████████████████████                                                                                   | 4900/13011 [12:52:57<24:16:13, 10.77s/it]"
     ]
    },
    {
     "name": "stdout",
     "output_type": "stream",
     "text": [
      "✅ Progress saved at row 4900 to Filtered_WPS_Progress.csv\n"
     ]
    },
    {
     "name": "stderr",
     "output_type": "stream",
     "text": [
      " 38%|███████████████████████████████████████████████████                                                                                  | 5000/13011 [13:08:10<28:53:45, 12.99s/it]"
     ]
    },
    {
     "name": "stdout",
     "output_type": "stream",
     "text": [
      "✅ Progress saved at row 5000 to Filtered_WPS_Progress.csv\n"
     ]
    },
    {
     "name": "stderr",
     "output_type": "stream",
     "text": [
      " 39%|████████████████████████████████████████████████████▏                                                                                | 5100/13011 [13:22:46<23:00:55, 10.47s/it]"
     ]
    },
    {
     "name": "stdout",
     "output_type": "stream",
     "text": [
      "✅ Progress saved at row 5100 to Filtered_WPS_Progress.csv\n"
     ]
    },
    {
     "name": "stderr",
     "output_type": "stream",
     "text": [
      " 40%|█████████████████████████████████████████████████████▏                                                                               | 5200/13011 [13:37:05<26:45:48, 12.33s/it]"
     ]
    },
    {
     "name": "stdout",
     "output_type": "stream",
     "text": [
      "✅ Progress saved at row 5200 to Filtered_WPS_Progress.csv\n"
     ]
    },
    {
     "name": "stderr",
     "output_type": "stream",
     "text": [
      " 41%|██████████████████████████████████████████████████████▏                                                                              | 5300/13011 [13:50:49<19:05:57,  8.92s/it]"
     ]
    },
    {
     "name": "stdout",
     "output_type": "stream",
     "text": [
      "✅ Progress saved at row 5300 to Filtered_WPS_Progress.csv\n"
     ]
    },
    {
     "name": "stderr",
     "output_type": "stream",
     "text": [
      " 42%|███████████████████████████████████████████████████████▏                                                                             | 5400/13011 [14:05:20<17:55:11,  8.48s/it]"
     ]
    },
    {
     "name": "stdout",
     "output_type": "stream",
     "text": [
      "✅ Progress saved at row 5400 to Filtered_WPS_Progress.csv\n"
     ]
    },
    {
     "name": "stderr",
     "output_type": "stream",
     "text": [
      " 42%|████████████████████████████████████████████████████████▏                                                                            | 5500/13011 [14:20:12<26:08:44, 12.53s/it]"
     ]
    },
    {
     "name": "stdout",
     "output_type": "stream",
     "text": [
      "✅ Progress saved at row 5500 to Filtered_WPS_Progress.csv\n"
     ]
    },
    {
     "name": "stderr",
     "output_type": "stream",
     "text": [
      " 43%|█████████████████████████████████████████████████████████▏                                                                           | 5600/13011 [14:37:46<35:58:40, 17.48s/it]"
     ]
    },
    {
     "name": "stdout",
     "output_type": "stream",
     "text": [
      "✅ Progress saved at row 5600 to Filtered_WPS_Progress.csv\n"
     ]
    },
    {
     "name": "stderr",
     "output_type": "stream",
     "text": [
      " 44%|██████████████████████████████████████████████████████████▎                                                                          | 5700/13011 [14:56:16<14:49:46,  7.30s/it]"
     ]
    },
    {
     "name": "stdout",
     "output_type": "stream",
     "text": [
      "✅ Progress saved at row 5700 to Filtered_WPS_Progress.csv\n"
     ]
    },
    {
     "name": "stderr",
     "output_type": "stream",
     "text": [
      " 45%|███████████████████████████████████████████████████████████▎                                                                         | 5800/13011 [15:12:15<14:11:28,  7.08s/it]"
     ]
    },
    {
     "name": "stdout",
     "output_type": "stream",
     "text": [
      "✅ Progress saved at row 5800 to Filtered_WPS_Progress.csv\n"
     ]
    },
    {
     "name": "stderr",
     "output_type": "stream",
     "text": [
      " 45%|████████████████████████████████████████████████████████████▎                                                                        | 5900/13011 [15:28:35<14:38:25,  7.41s/it]"
     ]
    },
    {
     "name": "stdout",
     "output_type": "stream",
     "text": [
      "✅ Progress saved at row 5900 to Filtered_WPS_Progress.csv\n"
     ]
    },
    {
     "name": "stderr",
     "output_type": "stream",
     "text": [
      " 46%|█████████████████████████████████████████████████████████████▎                                                                       | 6000/13011 [15:47:53<25:42:59, 13.20s/it]"
     ]
    },
    {
     "name": "stdout",
     "output_type": "stream",
     "text": [
      "✅ Progress saved at row 6000 to Filtered_WPS_Progress.csv\n"
     ]
    },
    {
     "name": "stderr",
     "output_type": "stream",
     "text": [
      " 47%|██████████████████████████████████████████████████████████████▎                                                                      | 6100/13011 [16:02:11<11:20:48,  5.91s/it]"
     ]
    },
    {
     "name": "stdout",
     "output_type": "stream",
     "text": [
      "✅ Progress saved at row 6100 to Filtered_WPS_Progress.csv\n"
     ]
    },
    {
     "name": "stderr",
     "output_type": "stream",
     "text": [
      " 48%|███████████████████████████████████████████████████████████████▍                                                                     | 6200/13011 [16:21:45<24:26:08, 12.92s/it]"
     ]
    },
    {
     "name": "stdout",
     "output_type": "stream",
     "text": [
      "✅ Progress saved at row 6200 to Filtered_WPS_Progress.csv\n"
     ]
    },
    {
     "name": "stderr",
     "output_type": "stream",
     "text": [
      " 48%|████████████████████████████████████████████████████████████████▉                                                                     | 6300/13011 [16:39:03<8:35:42,  4.61s/it]"
     ]
    },
    {
     "name": "stdout",
     "output_type": "stream",
     "text": [
      "✅ Progress saved at row 6300 to Filtered_WPS_Progress.csv\n"
     ]
    },
    {
     "name": "stderr",
     "output_type": "stream",
     "text": [
      " 49%|█████████████████████████████████████████████████████████████████▍                                                                   | 6400/13011 [16:57:39<22:12:30, 12.09s/it]"
     ]
    },
    {
     "name": "stdout",
     "output_type": "stream",
     "text": [
      "✅ Progress saved at row 6400 to Filtered_WPS_Progress.csv\n"
     ]
    },
    {
     "name": "stderr",
     "output_type": "stream",
     "text": [
      " 50%|██████████████████████████████████████████████████████████████████▍                                                                  | 6500/13011 [17:14:57<11:16:57,  6.24s/it]"
     ]
    },
    {
     "name": "stdout",
     "output_type": "stream",
     "text": [
      "✅ Progress saved at row 6500 to Filtered_WPS_Progress.csv\n"
     ]
    },
    {
     "name": "stderr",
     "output_type": "stream",
     "text": [
      " 51%|███████████████████████████████████████████████████████████████████▍                                                                 | 6600/13011 [17:30:15<14:05:03,  7.91s/it]"
     ]
    },
    {
     "name": "stdout",
     "output_type": "stream",
     "text": [
      "✅ Progress saved at row 6600 to Filtered_WPS_Progress.csv\n"
     ]
    },
    {
     "name": "stderr",
     "output_type": "stream",
     "text": [
      " 51%|████████████████████████████████████████████████████████████████████▍                                                                | 6700/13011 [17:44:07<21:18:06, 12.15s/it]"
     ]
    },
    {
     "name": "stdout",
     "output_type": "stream",
     "text": [
      "✅ Progress saved at row 6700 to Filtered_WPS_Progress.csv\n"
     ]
    },
    {
     "name": "stderr",
     "output_type": "stream",
     "text": [
      " 52%|█████████████████████████████████████████████████████████████████████▌                                                               | 6800/13011 [18:00:50<23:02:13, 13.35s/it]"
     ]
    },
    {
     "name": "stdout",
     "output_type": "stream",
     "text": [
      "✅ Progress saved at row 6800 to Filtered_WPS_Progress.csv\n"
     ]
    },
    {
     "name": "stderr",
     "output_type": "stream",
     "text": [
      " 53%|███████████████████████████████████████████████████████████████████████                                                               | 6900/13011 [18:15:08<9:11:00,  5.41s/it]"
     ]
    },
    {
     "name": "stdout",
     "output_type": "stream",
     "text": [
      "✅ Progress saved at row 6900 to Filtered_WPS_Progress.csv\n"
     ]
    },
    {
     "name": "stderr",
     "output_type": "stream",
     "text": [
      " 54%|███████████████████████████████████████████████████████████████████████▌                                                             | 7000/13011 [18:34:42<14:29:23,  8.68s/it]"
     ]
    },
    {
     "name": "stdout",
     "output_type": "stream",
     "text": [
      "✅ Progress saved at row 7000 to Filtered_WPS_Progress.csv\n"
     ]
    },
    {
     "name": "stderr",
     "output_type": "stream",
     "text": [
      " 55%|████████████████████████████████████████████████████████████████████████▌                                                            | 7100/13011 [18:53:41<18:12:13, 11.09s/it]"
     ]
    },
    {
     "name": "stdout",
     "output_type": "stream",
     "text": [
      "✅ Progress saved at row 7100 to Filtered_WPS_Progress.csv\n"
     ]
    },
    {
     "name": "stderr",
     "output_type": "stream",
     "text": [
      " 55%|█████████████████████████████████████████████████████████████████████████▌                                                           | 7200/13011 [19:11:22<25:26:31, 15.76s/it]"
     ]
    },
    {
     "name": "stdout",
     "output_type": "stream",
     "text": [
      "✅ Progress saved at row 7200 to Filtered_WPS_Progress.csv\n"
     ]
    },
    {
     "name": "stderr",
     "output_type": "stream",
     "text": [
      " 56%|██████████████████████████████████████████████████████████████████████████▌                                                          | 7300/13011 [19:41:43<28:01:29, 17.67s/it]"
     ]
    },
    {
     "name": "stdout",
     "output_type": "stream",
     "text": [
      "✅ Progress saved at row 7300 to Filtered_WPS_Progress.csv\n"
     ]
    },
    {
     "name": "stderr",
     "output_type": "stream",
     "text": [
      " 57%|███████████████████████████████████████████████████████████████████████████▋                                                         | 7400/13011 [20:19:15<20:58:57, 13.46s/it]"
     ]
    },
    {
     "name": "stdout",
     "output_type": "stream",
     "text": [
      "✅ Progress saved at row 7400 to Filtered_WPS_Progress.csv\n"
     ]
    },
    {
     "name": "stderr",
     "output_type": "stream",
     "text": [
      " 58%|█████████████████████████████████████████████████████████████████████████████▏                                                        | 7500/13011 [20:38:12<9:32:43,  6.24s/it]"
     ]
    },
    {
     "name": "stdout",
     "output_type": "stream",
     "text": [
      "✅ Progress saved at row 7500 to Filtered_WPS_Progress.csv\n"
     ]
    },
    {
     "name": "stderr",
     "output_type": "stream",
     "text": [
      " 58%|█████████████████████████████████████████████████████████████████████████████▋                                                       | 7600/13011 [20:59:57<21:01:32, 13.99s/it]"
     ]
    },
    {
     "name": "stdout",
     "output_type": "stream",
     "text": [
      "✅ Progress saved at row 7600 to Filtered_WPS_Progress.csv\n"
     ]
    },
    {
     "name": "stderr",
     "output_type": "stream",
     "text": [
      " 59%|██████████████████████████████████████████████████████████████████████████████▋                                                      | 7700/13011 [21:16:36<20:04:00, 13.60s/it]"
     ]
    },
    {
     "name": "stdout",
     "output_type": "stream",
     "text": [
      "✅ Progress saved at row 7700 to Filtered_WPS_Progress.csv\n"
     ]
    },
    {
     "name": "stderr",
     "output_type": "stream",
     "text": [
      " 60%|███████████████████████████████████████████████████████████████████████████████▋                                                     | 7800/13011 [21:35:17<23:02:06, 15.91s/it]"
     ]
    },
    {
     "name": "stdout",
     "output_type": "stream",
     "text": [
      "✅ Progress saved at row 7800 to Filtered_WPS_Progress.csv\n"
     ]
    },
    {
     "name": "stderr",
     "output_type": "stream",
     "text": [
      " 61%|████████████████████████████████████████████████████████████████████████████████▊                                                    | 7900/13011 [21:53:32<10:00:13,  7.05s/it]"
     ]
    },
    {
     "name": "stdout",
     "output_type": "stream",
     "text": [
      "✅ Progress saved at row 7900 to Filtered_WPS_Progress.csv\n"
     ]
    },
    {
     "name": "stderr",
     "output_type": "stream",
     "text": [
      " 61%|█████████████████████████████████████████████████████████████████████████████████▊                                                   | 8000/13011 [22:12:59<14:27:15, 10.38s/it]"
     ]
    },
    {
     "name": "stdout",
     "output_type": "stream",
     "text": [
      "✅ Progress saved at row 8000 to Filtered_WPS_Progress.csv\n"
     ]
    },
    {
     "name": "stderr",
     "output_type": "stream",
     "text": [
      " 62%|███████████████████████████████████████████████████████████████████████████████████▍                                                  | 8100/13011 [22:33:22<9:01:22,  6.61s/it]"
     ]
    },
    {
     "name": "stdout",
     "output_type": "stream",
     "text": [
      "✅ Progress saved at row 8100 to Filtered_WPS_Progress.csv\n"
     ]
    },
    {
     "name": "stderr",
     "output_type": "stream",
     "text": [
      " 63%|███████████████████████████████████████████████████████████████████████████████████▊                                                 | 8200/13011 [22:53:05<17:16:59, 12.93s/it]"
     ]
    },
    {
     "name": "stdout",
     "output_type": "stream",
     "text": [
      "✅ Progress saved at row 8200 to Filtered_WPS_Progress.csv\n"
     ]
    },
    {
     "name": "stderr",
     "output_type": "stream",
     "text": [
      " 64%|█████████████████████████████████████████████████████████████████████████████████████▍                                                | 8300/13011 [23:10:25<9:00:50,  6.89s/it]"
     ]
    },
    {
     "name": "stdout",
     "output_type": "stream",
     "text": [
      "✅ Progress saved at row 8300 to Filtered_WPS_Progress.csv\n"
     ]
    },
    {
     "name": "stderr",
     "output_type": "stream",
     "text": [
      " 65%|█████████████████████████████████████████████████████████████████████████████████████▊                                               | 8400/13011 [23:26:36<15:20:07, 11.97s/it]"
     ]
    },
    {
     "name": "stdout",
     "output_type": "stream",
     "text": [
      "✅ Progress saved at row 8400 to Filtered_WPS_Progress.csv\n"
     ]
    },
    {
     "name": "stderr",
     "output_type": "stream",
     "text": [
      " 65%|██████████████████████████████████████████████████████████████████████████████████████▉                                              | 8500/13011 [23:42:53<16:42:59, 13.34s/it]"
     ]
    },
    {
     "name": "stdout",
     "output_type": "stream",
     "text": [
      "✅ Progress saved at row 8500 to Filtered_WPS_Progress.csv\n"
     ]
    },
    {
     "name": "stderr",
     "output_type": "stream",
     "text": [
      " 66%|███████████████████████████████████████████████████████████████████████████████████████▉                                             | 8600/13011 [23:58:59<12:36:20, 10.29s/it]"
     ]
    },
    {
     "name": "stdout",
     "output_type": "stream",
     "text": [
      "✅ Progress saved at row 8600 to Filtered_WPS_Progress.csv\n"
     ]
    },
    {
     "name": "stderr",
     "output_type": "stream",
     "text": [
      " 67%|█████████████████████████████████████████████████████████████████████████████████████████▌                                            | 8700/13011 [24:16:52<6:13:24,  5.20s/it]"
     ]
    },
    {
     "name": "stdout",
     "output_type": "stream",
     "text": [
      "✅ Progress saved at row 8700 to Filtered_WPS_Progress.csv\n"
     ]
    },
    {
     "name": "stderr",
     "output_type": "stream",
     "text": [
      " 68%|██████████████████████████████████████████████████████████████████████████████████████████▋                                           | 8800/13011 [24:32:50<6:02:08,  5.16s/it]"
     ]
    },
    {
     "name": "stdout",
     "output_type": "stream",
     "text": [
      "✅ Progress saved at row 8800 to Filtered_WPS_Progress.csv\n"
     ]
    },
    {
     "name": "stderr",
     "output_type": "stream",
     "text": [
      " 68%|██████████████████████████████████████████████████████████████████████████████████████████▉                                          | 8900/13011 [24:48:25<16:52:22, 14.78s/it]"
     ]
    },
    {
     "name": "stdout",
     "output_type": "stream",
     "text": [
      "✅ Progress saved at row 8900 to Filtered_WPS_Progress.csv\n"
     ]
    },
    {
     "name": "stderr",
     "output_type": "stream",
     "text": [
      " 69%|███████████████████████████████████████████████████████████████████████████████████████████▉                                         | 9000/13011 [25:05:51<14:53:45, 13.37s/it]"
     ]
    },
    {
     "name": "stdout",
     "output_type": "stream",
     "text": [
      "✅ Progress saved at row 9000 to Filtered_WPS_Progress.csv\n"
     ]
    },
    {
     "name": "stderr",
     "output_type": "stream",
     "text": [
      " 70%|█████████████████████████████████████████████████████████████████████████████████████████████▋                                        | 9100/13011 [25:20:43<6:41:53,  6.17s/it]"
     ]
    },
    {
     "name": "stdout",
     "output_type": "stream",
     "text": [
      "✅ Progress saved at row 9100 to Filtered_WPS_Progress.csv\n"
     ]
    },
    {
     "name": "stderr",
     "output_type": "stream",
     "text": [
      " 71%|██████████████████████████████████████████████████████████████████████████████████████████████▊                                       | 9200/13011 [25:38:01<8:11:16,  7.73s/it]"
     ]
    },
    {
     "name": "stdout",
     "output_type": "stream",
     "text": [
      "✅ Progress saved at row 9200 to Filtered_WPS_Progress.csv\n"
     ]
    },
    {
     "name": "stderr",
     "output_type": "stream",
     "text": [
      " 71%|███████████████████████████████████████████████████████████████████████████████████████████████                                      | 9300/13011 [25:54:15<12:38:44, 12.27s/it]"
     ]
    },
    {
     "name": "stdout",
     "output_type": "stream",
     "text": [
      "✅ Progress saved at row 9300 to Filtered_WPS_Progress.csv\n"
     ]
    },
    {
     "name": "stderr",
     "output_type": "stream",
     "text": [
      " 72%|████████████████████████████████████████████████████████████████████████████████████████████████                                     | 9400/13011 [26:09:42<10:36:51, 10.58s/it]"
     ]
    },
    {
     "name": "stdout",
     "output_type": "stream",
     "text": [
      "✅ Progress saved at row 9400 to Filtered_WPS_Progress.csv\n"
     ]
    },
    {
     "name": "stderr",
     "output_type": "stream",
     "text": [
      " 73%|█████████████████████████████████████████████████████████████████████████████████████████████████▊                                    | 9500/13011 [26:25:06<7:21:18,  7.54s/it]"
     ]
    },
    {
     "name": "stdout",
     "output_type": "stream",
     "text": [
      "✅ Progress saved at row 9500 to Filtered_WPS_Progress.csv\n"
     ]
    },
    {
     "name": "stderr",
     "output_type": "stream",
     "text": [
      " 74%|██████████████████████████████████████████████████████████████████████████████████████████████████▏                                  | 9600/13011 [26:38:08<12:54:03, 13.62s/it]"
     ]
    },
    {
     "name": "stdout",
     "output_type": "stream",
     "text": [
      "✅ Progress saved at row 9600 to Filtered_WPS_Progress.csv\n"
     ]
    },
    {
     "name": "stderr",
     "output_type": "stream",
     "text": [
      " 75%|███████████████████████████████████████████████████████████████████████████████████████████████████▉                                  | 9700/13011 [26:52:16<8:03:41,  8.77s/it]"
     ]
    },
    {
     "name": "stdout",
     "output_type": "stream",
     "text": [
      "✅ Progress saved at row 9700 to Filtered_WPS_Progress.csv\n"
     ]
    },
    {
     "name": "stderr",
     "output_type": "stream",
     "text": [
      " 75%|████████████████████████████████████████████████████████████████████████████████████████████████████▏                                | 9800/13011 [27:08:09<12:05:21, 13.55s/it]"
     ]
    },
    {
     "name": "stdout",
     "output_type": "stream",
     "text": [
      "✅ Progress saved at row 9800 to Filtered_WPS_Progress.csv\n"
     ]
    },
    {
     "name": "stderr",
     "output_type": "stream",
     "text": [
      " 76%|█████████████████████████████████████████████████████████████████████████████████████████████████████▉                                | 9900/13011 [27:24:46<9:13:17, 10.67s/it]"
     ]
    },
    {
     "name": "stdout",
     "output_type": "stream",
     "text": [
      "✅ Progress saved at row 9900 to Filtered_WPS_Progress.csv\n"
     ]
    },
    {
     "name": "stderr",
     "output_type": "stream",
     "text": [
      " 77%|██████████████████████████████████████████████████████████████████████████████████████████████████████▏                              | 10000/13011 [27:39:49<3:28:17,  4.15s/it]"
     ]
    },
    {
     "name": "stdout",
     "output_type": "stream",
     "text": [
      "✅ Progress saved at row 10000 to Filtered_WPS_Progress.csv\n"
     ]
    },
    {
     "name": "stderr",
     "output_type": "stream",
     "text": [
      " 78%|███████████████████████████████████████████████████████████████████████████████████████████████████████▏                             | 10100/13011 [27:57:19<7:45:41,  9.60s/it]"
     ]
    },
    {
     "name": "stdout",
     "output_type": "stream",
     "text": [
      "✅ Progress saved at row 10100 to Filtered_WPS_Progress.csv\n"
     ]
    },
    {
     "name": "stderr",
     "output_type": "stream",
     "text": [
      " 78%|███████████████████████████████████████████████████████████████████████████████████████████████████████▍                            | 10200/13011 [28:13:11<13:16:53, 17.01s/it]"
     ]
    },
    {
     "name": "stdout",
     "output_type": "stream",
     "text": [
      "✅ Progress saved at row 10200 to Filtered_WPS_Progress.csv\n"
     ]
    },
    {
     "name": "stderr",
     "output_type": "stream",
     "text": [
      " 79%|████████████████████████████████████████████████████████████████████████████████████████████████████████▍                           | 10300/13011 [28:31:09<11:38:59, 15.47s/it]"
     ]
    },
    {
     "name": "stdout",
     "output_type": "stream",
     "text": [
      "✅ Progress saved at row 10300 to Filtered_WPS_Progress.csv\n"
     ]
    },
    {
     "name": "stderr",
     "output_type": "stream",
     "text": [
      " 80%|██████████████████████████████████████████████████████████████████████████████████████████████████████████▎                          | 10400/13011 [28:48:18<7:12:39,  9.94s/it]"
     ]
    },
    {
     "name": "stdout",
     "output_type": "stream",
     "text": [
      "✅ Progress saved at row 10400 to Filtered_WPS_Progress.csv\n"
     ]
    },
    {
     "name": "stderr",
     "output_type": "stream",
     "text": [
      " 81%|███████████████████████████████████████████████████████████████████████████████████████████████████████████▎                         | 10500/13011 [29:08:04<9:56:47, 14.26s/it]"
     ]
    },
    {
     "name": "stdout",
     "output_type": "stream",
     "text": [
      "✅ Progress saved at row 10500 to Filtered_WPS_Progress.csv\n"
     ]
    },
    {
     "name": "stderr",
     "output_type": "stream",
     "text": [
      " 81%|████████████████████████████████████████████████████████████████████████████████████████████████████████████▎                        | 10600/13011 [29:25:31<5:24:04,  8.06s/it]"
     ]
    },
    {
     "name": "stdout",
     "output_type": "stream",
     "text": [
      "✅ Progress saved at row 10600 to Filtered_WPS_Progress.csv\n"
     ]
    },
    {
     "name": "stderr",
     "output_type": "stream",
     "text": [
      " 82%|█████████████████████████████████████████████████████████████████████████████████████████████████████████████▍                       | 10700/13011 [29:42:59<8:14:06, 12.83s/it]"
     ]
    },
    {
     "name": "stdout",
     "output_type": "stream",
     "text": [
      "✅ Progress saved at row 10700 to Filtered_WPS_Progress.csv\n"
     ]
    },
    {
     "name": "stderr",
     "output_type": "stream",
     "text": [
      " 83%|██████████████████████████████████████████████████████████████████████████████████████████████████████████████▍                      | 10800/13011 [29:59:58<4:05:53,  6.67s/it]"
     ]
    },
    {
     "name": "stdout",
     "output_type": "stream",
     "text": [
      "✅ Progress saved at row 10800 to Filtered_WPS_Progress.csv\n"
     ]
    },
    {
     "name": "stderr",
     "output_type": "stream",
     "text": [
      " 84%|███████████████████████████████████████████████████████████████████████████████████████████████████████████████▍                     | 10900/13011 [30:15:59<6:57:33, 11.87s/it]"
     ]
    },
    {
     "name": "stdout",
     "output_type": "stream",
     "text": [
      "✅ Progress saved at row 10900 to Filtered_WPS_Progress.csv\n"
     ]
    },
    {
     "name": "stderr",
     "output_type": "stream",
     "text": [
      " 85%|████████████████████████████████████████████████████████████████████████████████████████████████████████████████▍                    | 11000/13011 [30:32:38<7:09:18, 12.81s/it]"
     ]
    },
    {
     "name": "stdout",
     "output_type": "stream",
     "text": [
      "✅ Progress saved at row 11000 to Filtered_WPS_Progress.csv\n"
     ]
    },
    {
     "name": "stderr",
     "output_type": "stream",
     "text": [
      " 85%|█████████████████████████████████████████████████████████████████████████████████████████████████████████████████▍                   | 11100/13011 [30:46:30<3:09:34,  5.95s/it]"
     ]
    },
    {
     "name": "stdout",
     "output_type": "stream",
     "text": [
      "✅ Progress saved at row 11100 to Filtered_WPS_Progress.csv\n"
     ]
    },
    {
     "name": "stderr",
     "output_type": "stream",
     "text": [
      " 86%|██████████████████████████████████████████████████████████████████████████████████████████████████████████████████▍                  | 11200/13011 [31:01:34<5:41:48, 11.32s/it]"
     ]
    },
    {
     "name": "stdout",
     "output_type": "stream",
     "text": [
      "✅ Progress saved at row 11200 to Filtered_WPS_Progress.csv\n"
     ]
    },
    {
     "name": "stderr",
     "output_type": "stream",
     "text": [
      " 87%|███████████████████████████████████████████████████████████████████████████████████████████████████████████████████▌                 | 11300/13011 [31:17:00<2:30:57,  5.29s/it]"
     ]
    },
    {
     "name": "stdout",
     "output_type": "stream",
     "text": [
      "✅ Progress saved at row 11300 to Filtered_WPS_Progress.csv\n"
     ]
    },
    {
     "name": "stderr",
     "output_type": "stream",
     "text": [
      " 88%|████████████████████████████████████████████████████████████████████████████████████████████████████████████████████▌                | 11400/13011 [31:31:43<2:42:01,  6.03s/it]"
     ]
    },
    {
     "name": "stdout",
     "output_type": "stream",
     "text": [
      "✅ Progress saved at row 11400 to Filtered_WPS_Progress.csv\n"
     ]
    },
    {
     "name": "stderr",
     "output_type": "stream",
     "text": [
      " 88%|█████████████████████████████████████████████████████████████████████████████████████████████████████████████████████▌               | 11500/13011 [31:46:47<3:45:04,  8.94s/it]"
     ]
    },
    {
     "name": "stdout",
     "output_type": "stream",
     "text": [
      "✅ Progress saved at row 11500 to Filtered_WPS_Progress.csv\n"
     ]
    },
    {
     "name": "stderr",
     "output_type": "stream",
     "text": [
      " 89%|██████████████████████████████████████████████████████████████████████████████████████████████████████████████████████▌              | 11600/13011 [32:02:35<2:13:21,  5.67s/it]"
     ]
    },
    {
     "name": "stdout",
     "output_type": "stream",
     "text": [
      "✅ Progress saved at row 11600 to Filtered_WPS_Progress.csv\n"
     ]
    },
    {
     "name": "stderr",
     "output_type": "stream",
     "text": [
      " 90%|███████████████████████████████████████████████████████████████████████████████████████████████████████████████████████▌             | 11700/13011 [32:16:43<3:01:09,  8.29s/it]"
     ]
    },
    {
     "name": "stdout",
     "output_type": "stream",
     "text": [
      "✅ Progress saved at row 11700 to Filtered_WPS_Progress.csv\n"
     ]
    },
    {
     "name": "stderr",
     "output_type": "stream",
     "text": [
      " 91%|████████████████████████████████████████████████████████████████████████████████████████████████████████████████████████▌            | 11800/13011 [32:32:06<2:00:25,  5.97s/it]"
     ]
    },
    {
     "name": "stdout",
     "output_type": "stream",
     "text": [
      "✅ Progress saved at row 11800 to Filtered_WPS_Progress.csv\n"
     ]
    },
    {
     "name": "stderr",
     "output_type": "stream",
     "text": [
      " 91%|█████████████████████████████████████████████████████████████████████████████████████████████████████████████████████████▋           | 11900/13011 [32:48:10<3:33:58, 11.56s/it]"
     ]
    },
    {
     "name": "stdout",
     "output_type": "stream",
     "text": [
      "✅ Progress saved at row 11900 to Filtered_WPS_Progress.csv\n"
     ]
    },
    {
     "name": "stderr",
     "output_type": "stream",
     "text": [
      " 92%|██████████████████████████████████████████████████████████████████████████████████████████████████████████████████████████▋          | 12000/13011 [33:06:16<4:09:04, 14.78s/it]"
     ]
    },
    {
     "name": "stdout",
     "output_type": "stream",
     "text": [
      "✅ Progress saved at row 12000 to Filtered_WPS_Progress.csv\n"
     ]
    },
    {
     "name": "stderr",
     "output_type": "stream",
     "text": [
      " 93%|███████████████████████████████████████████████████████████████████████████████████████████████████████████████████████████▋         | 12100/13011 [33:24:30<2:59:29, 11.82s/it]"
     ]
    },
    {
     "name": "stdout",
     "output_type": "stream",
     "text": [
      "✅ Progress saved at row 12100 to Filtered_WPS_Progress.csv\n"
     ]
    },
    {
     "name": "stderr",
     "output_type": "stream",
     "text": [
      " 94%|████████████████████████████████████████████████████████████████████████████████████████████████████████████████████████████▋        | 12200/13011 [33:39:49<1:27:39,  6.49s/it]"
     ]
    },
    {
     "name": "stdout",
     "output_type": "stream",
     "text": [
      "✅ Progress saved at row 12200 to Filtered_WPS_Progress.csv\n"
     ]
    },
    {
     "name": "stderr",
     "output_type": "stream",
     "text": [
      " 95%|█████████████████████████████████████████████████████████████████████████████████████████████████████████████████████████████▋       | 12300/13011 [33:56:50<2:27:42, 12.46s/it]"
     ]
    },
    {
     "name": "stdout",
     "output_type": "stream",
     "text": [
      "✅ Progress saved at row 12300 to Filtered_WPS_Progress.csv\n"
     ]
    },
    {
     "name": "stderr",
     "output_type": "stream",
     "text": [
      " 95%|██████████████████████████████████████████████████████████████████████████████████████████████████████████████████████████████▊      | 12400/13011 [34:16:25<1:56:06, 11.40s/it]"
     ]
    },
    {
     "name": "stdout",
     "output_type": "stream",
     "text": [
      "✅ Progress saved at row 12400 to Filtered_WPS_Progress.csv\n"
     ]
    },
    {
     "name": "stderr",
     "output_type": "stream",
     "text": [
      " 96%|███████████████████████████████████████████████████████████████████████████████████████████████████████████████████████████████▊     | 12500/13011 [34:30:43<1:05:17,  7.67s/it]"
     ]
    },
    {
     "name": "stdout",
     "output_type": "stream",
     "text": [
      "✅ Progress saved at row 12500 to Filtered_WPS_Progress.csv\n"
     ]
    },
    {
     "name": "stderr",
     "output_type": "stream",
     "text": [
      " 97%|████████████████████████████████████████████████████████████████████████████████████████████████████████████████████████████████▊    | 12600/13011 [34:51:00<1:32:23, 13.49s/it]"
     ]
    },
    {
     "name": "stdout",
     "output_type": "stream",
     "text": [
      "✅ Progress saved at row 12600 to Filtered_WPS_Progress.csv\n"
     ]
    },
    {
     "name": "stderr",
     "output_type": "stream",
     "text": [
      " 98%|███████████████████████████████████████████████████████████████████████████████████████████████████████████████████████████████████▊   | 12700/13011 [35:08:32<45:55,  8.86s/it]"
     ]
    },
    {
     "name": "stdout",
     "output_type": "stream",
     "text": [
      "✅ Progress saved at row 12700 to Filtered_WPS_Progress.csv\n"
     ]
    },
    {
     "name": "stderr",
     "output_type": "stream",
     "text": [
      " 98%|████████████████████████████████████████████████████████████████████████████████████████████████████████████████████████████████████▊  | 12800/13011 [35:25:20<42:29, 12.08s/it]"
     ]
    },
    {
     "name": "stdout",
     "output_type": "stream",
     "text": [
      "✅ Progress saved at row 12800 to Filtered_WPS_Progress.csv\n"
     ]
    },
    {
     "name": "stderr",
     "output_type": "stream",
     "text": [
      " 99%|█████████████████████████████████████████████████████████████████████████████████████████████████████████████████████████████████████▊ | 12900/13011 [35:41:21<22:55, 12.39s/it]"
     ]
    },
    {
     "name": "stdout",
     "output_type": "stream",
     "text": [
      "✅ Progress saved at row 12900 to Filtered_WPS_Progress.csv\n"
     ]
    },
    {
     "name": "stderr",
     "output_type": "stream",
     "text": [
      "100%|██████████████████████████████████████████████████████████████████████████████████████████████████████████████████████████████████████▉| 13000/13011 [35:58:57<02:38, 14.39s/it]"
     ]
    },
    {
     "name": "stdout",
     "output_type": "stream",
     "text": [
      "✅ Progress saved at row 13000 to Filtered_WPS_Progress.csv\n"
     ]
    },
    {
     "name": "stderr",
     "output_type": "stream",
     "text": [
      "100%|███████████████████████████████████████████████████████████████████████████████████████████████████████████████████████████████████████| 13011/13011 [36:00:30<00:00,  9.96s/it]"
     ]
    },
    {
     "name": "stdout",
     "output_type": "stream",
     "text": [
      "✅ Progress saved at row 13011 to Filtered_WPS_Progress.csv\n"
     ]
    },
    {
     "name": "stderr",
     "output_type": "stream",
     "text": [
      "\n"
     ]
    }
   ],
   "source": [
    "# main loop: filter the is_pesticide_product then is_wps_incident\n",
    "tqdm.pandas()\n",
    "for i in tqdm(range(start_index, len(df_human))):\n",
    "    row = df_human.iloc[i]\n",
    "    product = str(row[\"Product Names\"])\n",
    "    description = str(row[DESC_COL])\n",
    "\n",
    "    pesticide_check = is_pesticide_product(product)\n",
    "    if pesticide_check.lower() == \"yes\":\n",
    "        wps_check = is_wps_incident(description)\n",
    "    else:\n",
    "        wps_check = \"No\"\n",
    "\n",
    "    # save result\n",
    "    result_row = row.to_dict()\n",
    "    result_row[\"is_pesticide_related\"] = pesticide_check\n",
    "    result_row[\"is_wps_related\"] = wps_check\n",
    "    results.append(result_row)\n",
    "\n",
    "    # save the progress every 100 lines\n",
    "    if (i + 1) % SAVE_EVERY == 0 or (i + 1) == len(df_human):\n",
    "        temp_df = pd.DataFrame(results)\n",
    "        temp_df.to_csv(PROGRESS_FILE, index=False)\n",
    "        print(f\"✅ Progress saved at row {i+1} to {PROGRESS_FILE}\")"
   ]
  },
  {
   "cell_type": "code",
   "execution_count": 12,
   "id": "89c164a9-7da8-434a-b688-53cfae344df2",
   "metadata": {},
   "outputs": [
    {
     "ename": "NameError",
     "evalue": "name 'df_pesticide' is not defined",
     "output_type": "error",
     "traceback": [
      "\u001b[31m---------------------------------------------------------------------------\u001b[39m",
      "\u001b[31mNameError\u001b[39m                                 Traceback (most recent call last)",
      "\u001b[36mCell\u001b[39m\u001b[36m \u001b[39m\u001b[32mIn[12]\u001b[39m\u001b[32m, line 2\u001b[39m\n\u001b[32m      1\u001b[39m \u001b[38;5;66;03m# result\u001b[39;00m\n\u001b[32m----> \u001b[39m\u001b[32m2\u001b[39m final_df = \u001b[43mdf_pesticide\u001b[49m[df_pesticide[\u001b[33m\"\u001b[39m\u001b[33mis_wps_related\u001b[39m\u001b[33m\"\u001b[39m].str.lower() == \u001b[33m\"\u001b[39m\u001b[33myes\u001b[39m\u001b[33m\"\u001b[39m]\n\u001b[32m      3\u001b[39m final_df.to_csv(\u001b[33m\"\u001b[39m\u001b[33mFiltered_WPS_Final.csv\u001b[39m\u001b[33m\"\u001b[39m, index=\u001b[38;5;28;01mFalse\u001b[39;00m)\n\u001b[32m      4\u001b[39m \u001b[38;5;28mprint\u001b[39m(\u001b[33m\"\u001b[39m\u001b[33mDone. Saved to Filtered_WPS_Final.csv\u001b[39m\u001b[33m\"\u001b[39m)\n",
      "\u001b[31mNameError\u001b[39m: name 'df_pesticide' is not defined"
     ]
    }
   ],
   "source": [
    "# result\n",
    "final_df = df_pesticide[df_pesticide[\"is_wps_related\"].str.lower() == \"yes\"]\n",
    "final_df.to_csv(\"Filtered_WPS_Final.csv\", index=False)\n",
    "print(\"Done. Saved to Filtered_WPS_Final.csv\")"
   ]
  }
 ],
 "metadata": {
  "kernelspec": {
   "display_name": "Python 3 (ipykernel)",
   "language": "python",
   "name": "python3"
  },
  "language_info": {
   "codemirror_mode": {
    "name": "ipython",
    "version": 3
   },
   "file_extension": ".py",
   "mimetype": "text/x-python",
   "name": "python",
   "nbconvert_exporter": "python",
   "pygments_lexer": "ipython3",
   "version": "3.13.1"
  }
 },
 "nbformat": 4,
 "nbformat_minor": 5
}
